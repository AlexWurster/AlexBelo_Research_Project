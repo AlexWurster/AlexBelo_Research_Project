{
 "cells": [
  {
   "cell_type": "markdown",
   "metadata": {},
   "source": [
    "# Counting Rotatable Bonds\n",
    "\n",
    "- ## Counting all side chain rotatable bonds in peptide chain: rotatory()\n",
    "\n",
    "- ## Counting average number of rotatable bonds per amino acid in peptide chain: rot_density()"
   ]
  },
  {
   "cell_type": "code",
   "execution_count": null,
   "metadata": {},
   "outputs": [],
   "source": [
    "def rotatory(protein):\n",
    "    aadict={'a':0, 'c':1, 'd':2, 'e':3, 'f':2,    # The number of rotatory bonds is only for the side chain\n",
    "            'g':0, 'h':2, 'i':2, 'k':4, 'l':2, \n",
    "            'm':3, 'n':2, 'p':0, 'q':3, 'r':4, \n",
    "            's':1, 't':1, 'v':1, 'w':2, 'y':2}\n",
    "    count=0\n",
    "    protein=protein.lower()\n",
    "    protein=protein.replace('\\n','')            #This makes the paragraphs not count, so it does not count for the protein length function\n",
    "    protein=protein.replace(' ','')             #This makes the spaces not count, so that it does not count for the protein length function\n",
    "    for aa in protein:\n",
    "        if aa not in aadict:\n",
    "            count=count+1                       # This adds the minimal number of amino acids - MAYBE IT SHUOLD BE A WEIGHTED AVERAGE\n",
    "        if aa in aadict:\n",
    "            count=count+aadict[aa]\n",
    "    return count\n",
    "\n",
    "\n",
    "\n",
    "def rot_density(protein):\n",
    "    aadict={'a':0, 'c':1, 'd':2, 'e':3, 'f':2,    # The number of rotatory bonds is only for the side chain\n",
    "            'g':0, 'h':2, 'i':2, 'k':4, 'l':2, \n",
    "            'm':3, 'n':2, 'p':0, 'q':3, 'r':4, \n",
    "            's':1, 't':1, 'v':1, 'w':2, 'y':2}\n",
    "    count=0\n",
    "    protein=protein.lower()\n",
    "    protein=protein.replace('\\n','')            #This makes the paragraphs not count, so it does not count for the protein length function\n",
    "    protein=protein.replace(' ','')             #This makes the spaces not count, so that it does not count for the protein length function\n",
    "    for aa in protein:\n",
    "        if aa not in aadict:\n",
    "            count=count+1\n",
    "        if aa in aadict:\n",
    "            count=count+aadict[aa]\n",
    "    density=(count) / len(protein)\n",
    "    round_density= round(density, 5)\n",
    "    return round_density"
   ]
  }
 ],
 "metadata": {
  "interpreter": {
   "hash": "fcc9d14f13fdb1a17c1463029b9ae143e53bd3aa78ed9c0acd3ffe70e799f014"
  },
  "kernelspec": {
   "display_name": "Python 3.10.4 64-bit",
   "language": "python",
   "name": "python3"
  },
  "language_info": {
   "name": "python",
   "version": "3.10.4"
  },
  "orig_nbformat": 4
 },
 "nbformat": 4,
 "nbformat_minor": 2
}
