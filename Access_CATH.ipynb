{
 "cells": [
  {
   "cell_type": "markdown",
   "metadata": {},
   "source": [
    "# Downloading CATH Database"
   ]
  },
  {
   "cell_type": "markdown",
   "metadata": {},
   "source": [
    "## Download all of CATH DB into a .txt file"
   ]
  },
  {
   "cell_type": "code",
   "execution_count": null,
   "metadata": {},
   "outputs": [],
   "source": [
    "\n",
    "import wget\n",
    "wget.download('ftp://orengoftp.biochem.ucl.ac.uk/cath/releases/latest-release/cath-classification-data/cath-domain-description-file.txt', \n",
    "'D:\\OneDrive - University of Edinburgh\\Python\\Python-VSC\\Thesis_Project\\Lab')"
   ]
  },
  {
   "cell_type": "markdown",
   "metadata": {},
   "source": [
    "## Transfer .txt data into a pickle file\n",
    "\n",
    "- Select the data and organize in a list of dictionaries, each dictionary with information correspondent to one protein\n",
    "\n",
    "- Used the PDBench_read function found in Github: https://github.com/wells-wood-research/PDBench.git"
   ]
  },
  {
   "cell_type": "code",
   "execution_count": null,
   "metadata": {},
   "outputs": [],
   "source": [
    "import pandas as pd\n",
    "import pickle\n",
    "import PDBench_read as bench\n",
    "from Rotatory_library import rotatory, rot_density\n",
    "\n",
    "\n",
    "with open('Cath_dic.pickle','wb') as pickle_output:\n",
    "\n",
    "    cath_list_dics = []\n",
    "\n",
    "    cath_dic = { \"PDB\" : \"\" , \"chain\" : \"\" , \"class\" : \"\" , \"architecture\" : \"\" , \"topology\" : \"\" , \"hsf\" : \"\" , \n",
    "                \"start\" : \"\" , \"stop\" : \"\" ,\"sequence\" : \"\", \"seq_length\" : \"\" , \"rotatable_bonds\" : \"\" , \"rot_density\" : \"\" }\n",
    "\n",
    "    cath_class = { 1 : \"Mainly Alpha\" , 2 : \"Mainly Beta\" , 3 : \"Alpha Beta\" , 4 : \"Few 2ry Structures\" , 6 : \"Special\" }\n",
    "    \n",
    "#Extract data into pandas DataFrame format where each row has information about one protein \n",
    "    cath_info=bench.read_data('CATH_DB.txt')\n",
    "\n",
    "    for list in cath_info:\n",
    "        cath_dic[\"PDB\"] = list[0]\n",
    "        cath_dic[\"chain\"] = list[1]\n",
    "        cath_dic[\"class\"] = cath_class[list[2]]     # Change the Class reference from numerical to name\n",
    "        cath_dic[\"architecture\"] = list[3]\n",
    "        cath_dic[\"topology\"] = list[4]\n",
    "        cath_dic[\"hsf\"] = list[5]\n",
    "        cath_dic[\"start\"] = list[6]\n",
    "        cath_dic[\"stop\"] = list[7]\n",
    "        cath_dic[\"sequence\"] = list[8]\n",
    "        cath_dic[\"seq_length\"] = len(list[8])\n",
    "        cath_dic[\"rotatable_bonds\"] = rotatory(list[8])\n",
    "        cath_dic[\"rot_density\"] = rot_density(list[8])\n",
    "        cath_list_dics.append(cath_dic)\n",
    "        cath_dic = { \"PDB\" : \"\" , \"chain\" : \"\" , \"class\" : \"\" , \n",
    "                    \"architecture\" : \"\" , \"topology\" : \"\" , \"hsf\" : \"\" , \n",
    "                     \"start\" : \"\" , \"stop\" : \"\" , \"sequence\" : \"\", \n",
    "                     \"seq_length\" : \"\" , \"rotatable_bonds\" : \"\" , \"rot_density\" : \"\" }\n",
    "\n",
    "    pickle.dump(cath_list_dics , pickle_output )"
   ]
  }
 ],
 "metadata": {
  "interpreter": {
   "hash": "fcc9d14f13fdb1a17c1463029b9ae143e53bd3aa78ed9c0acd3ffe70e799f014"
  },
  "kernelspec": {
   "display_name": "Python 3.10.4 64-bit",
   "language": "python",
   "name": "python3"
  },
  "language_info": {
   "name": "python",
   "version": "3.10.4"
  },
  "orig_nbformat": 4
 },
 "nbformat": 4,
 "nbformat_minor": 2
}
